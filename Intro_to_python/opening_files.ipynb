{
 "cells": [
  {
   "cell_type": "markdown",
   "metadata": {},
   "source": [
    "# Open function\n"
   ]
  },
  {
   "cell_type": "markdown",
   "metadata": {},
   "source": [
    "## Reading"
   ]
  },
  {
   "cell_type": "code",
   "execution_count": 15,
   "metadata": {},
   "outputs": [
    {
     "name": "stdout",
     "output_type": "stream",
     "text": [
      "File Open success!\n",
      "Name : Ojas Madghe\n",
      "Roll no : ME23BTECH11044\n",
      "Age : 19\n",
      "Weight : 76\n",
      "Height : 6.2\n",
      "City : Pune\n",
      "CGPA : 9.76\n",
      "\n"
     ]
    }
   ],
   "source": [
    "with open ('D:\\DataSci\\Resources\\details.txt', \"r\") as file1:\n",
    "    file_stuff = file1.read()\n",
    "    print(\"File Open success!\")\n",
    "\n",
    "print(file_stuff)\n",
    "\n",
    "\n",
    "#we could also use the basic open syntax but it requires us to close\n",
    "#the file after use which we can sometimes forget so this method is better"
   ]
  },
  {
   "cell_type": "markdown",
   "metadata": {},
   "source": [
    "readline() function can be used as follows"
   ]
  },
  {
   "cell_type": "code",
   "execution_count": 4,
   "metadata": {},
   "outputs": [
    {
     "name": "stdout",
     "output_type": "stream",
     "text": [
      "Name : Ojas Madghe\n",
      "\n",
      "Roll no : ME23BTECH11044\n",
      "\n",
      "Age : 19\n",
      "\n"
     ]
    }
   ],
   "source": [
    "with open('D:\\DataSci\\Resources\\details.txt', \"r\") as file2:\n",
    "    file_line= file2.readline()\n",
    "    print(file_line)\n",
    "    file_line= file2.readline()\n",
    "    print(file_line)\n",
    "    file_line= file2.readline()\n",
    "    print(file_line)"
   ]
  },
  {
   "cell_type": "markdown",
   "metadata": {},
   "source": [
    "as we see in the output, calling the .readline() function successively, prints successive lines from the file. the .readline() function also takes arguments as to how many characters to print in each go. \n"
   ]
  },
  {
   "cell_type": "code",
   "execution_count": 3,
   "metadata": {},
   "outputs": [
    {
     "name": "stdout",
     "output_type": "stream",
     "text": [
      "Name \n",
      ": Oja\n",
      "s Mad\n"
     ]
    }
   ],
   "source": [
    "with open('D:\\DataSci\\Resources\\details.txt', \"r\") as file3:\n",
    "    file_line= file3.readline(5)\n",
    "    print(file_line)\n",
    "    file_line= file3.readline(5)\n",
    "    print(file_line)\n",
    "    file_line= file3.readline(5)\n",
    "    print(file_line)"
   ]
  },
  {
   "cell_type": "markdown",
   "metadata": {},
   "source": [
    "There is also a seek() function in file-handling"
   ]
  },
  {
   "cell_type": "code",
   "execution_count": 7,
   "metadata": {},
   "outputs": [
    {
     "name": "stdout",
     "output_type": "stream",
     "text": [
      "Name : Ojas Madghe\n",
      "\n",
      "Roll no : ME23BTECH11044\n",
      "\n",
      "Age : 19\n",
      "\n",
      "Weight : 76\n",
      "\n",
      "Height : 6.2\n",
      "\n",
      "City : Pune\n",
      "\n"
     ]
    }
   ],
   "source": [
    "with open('D:\\DataSci\\Resources\\details.txt', \"r\") as file4:\n",
    "    while True:\n",
    "        line = file4.readline()\n",
    "        if not line:\n",
    "            break\n",
    "        else:\n",
    "            print(line)\n",
    "    "
   ]
  },
  {
   "cell_type": "markdown",
   "metadata": {},
   "source": [
    "## Writing\n",
    "there are 2 modes namely - **write (\"w\")** and **append (\"a\")** to edit files. In w , the existing content of the file is lost and the new content writes *over* it. Whereas in the append mode, the existing content of the file stays and new content is just *added* to the file"
   ]
  },
  {
   "cell_type": "code",
   "execution_count": 9,
   "metadata": {},
   "outputs": [],
   "source": [
    "with open('D:\\DataSci\\Resources\\details_1.txt', \"w\") as file5:\n",
    "    file5.write(\"The contents of the file have been deleted\\n\")\n",
    "    file5.write(\"The file is now under FBI's control\")"
   ]
  },
  {
   "cell_type": "code",
   "execution_count": 10,
   "metadata": {},
   "outputs": [],
   "source": [
    "with open('D:\\DataSci\\Resources\\details.txt', \"a\") as file6:\n",
    "    file6.write(\"CGPA : 9.76\\n\")"
   ]
  },
  {
   "cell_type": "markdown",
   "metadata": {},
   "source": [
    "to *copy* the contents of one file to another we can use the following nested-loop method"
   ]
  },
  {
   "cell_type": "code",
   "execution_count": 14,
   "metadata": {},
   "outputs": [
    {
     "name": "stdout",
     "output_type": "stream",
     "text": [
      "Name : Ojas Madghe\n",
      "Roll no : ME23BTECH11044\n",
      "Age : 19\n",
      "Weight : 76\n",
      "Height : 6.2\n",
      "City : Pune\n",
      "CGPA : 9.76\n",
      "\n"
     ]
    }
   ],
   "source": [
    "with open('D:\\DataSci\\Resources\\details.txt', \"r\") as readfile:\n",
    "    with open('D:\\DataSci\\Resources\\details_1.txt', \"w\") as writefile:\n",
    "        for line in readfile:\n",
    "            writefile.write(line)\n",
    "\n",
    "with open('D:\\DataSci\\Resources\\details_1.txt', \"r\") as file7:\n",
    "    filestuff = file7.read()\n",
    "    print(filestuff) # we could just directly do print(file7.read())\n"
   ]
  }
 ],
 "metadata": {
  "kernelspec": {
   "display_name": "Python 3",
   "language": "python",
   "name": "python3"
  },
  "language_info": {
   "codemirror_mode": {
    "name": "ipython",
    "version": 3
   },
   "file_extension": ".py",
   "mimetype": "text/x-python",
   "name": "python",
   "nbconvert_exporter": "python",
   "pygments_lexer": "ipython3",
   "version": "3.11.9"
  }
 },
 "nbformat": 4,
 "nbformat_minor": 2
}
