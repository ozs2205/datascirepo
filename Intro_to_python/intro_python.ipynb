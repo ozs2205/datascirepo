{
 "cells": [
  {
   "cell_type": "markdown",
   "metadata": {},
   "source": [
    "# Introductory Lab on Python"
   ]
  },
  {
   "cell_type": "code",
   "execution_count": 1,
   "metadata": {},
   "outputs": [
    {
     "name": "stdout",
     "output_type": "stream",
     "text": [
      "Hello World!\n"
     ]
    }
   ],
   "source": [
    "print(\"Hello World!\")"
   ]
  },
  {
   "cell_type": "code",
   "execution_count": 2,
   "metadata": {},
   "outputs": [
    {
     "name": "stdout",
     "output_type": "stream",
     "text": [
      "3.11.9 (tags/v3.11.9:de54cf5, Apr  2 2024, 10:12:12) [MSC v.1938 64 bit (AMD64)]\n"
     ]
    }
   ],
   "source": [
    "import sys\n",
    "print(sys.version)"
   ]
  },
  {
   "cell_type": "code",
   "execution_count": null,
   "metadata": {},
   "outputs": [],
   "source": [
    "print(type(11))\n",
    "print(type(11.1))\n",
    "print(type(True))\n",
    "print(type('True'))"
   ]
  },
  {
   "cell_type": "markdown",
   "metadata": {},
   "source": [
    "converting one data type to the other is called typecasting. int(1.1) means typecasting a floating point number ie 1.1 to an integer ie 1. If we do int(True) we get 1. and similarly 0 for False. Other way round, if we do bool(1) we get True and opp for False"
   ]
  },
  {
   "cell_type": "markdown",
   "metadata": {},
   "source": [
    "#### Exercise"
   ]
  },
  {
   "cell_type": "code",
   "execution_count": null,
   "metadata": {},
   "outputs": [],
   "source": [
    "print(type(6/2)) # this returns a float!\n",
    "print(type(6//2)) # this returns an int!\n",
    "print(type(2*3)) # this returns an int!"
   ]
  },
  {
   "cell_type": "markdown",
   "metadata": {},
   "source": [
    "Expressions are combination of operands and operators. IN 5+6, 5 & 6 are operands and the + is the operator"
   ]
  },
  {
   "cell_type": "markdown",
   "metadata": {},
   "source": [
    "## String Methods\n",
    "1. Strings are sequences\n",
    "2. Strings are immutable as such, but we can assign them new strings\n",
    "3. Strings can be sliced with [start:stop(+1):step] syntax\n",
    "4. Strings have various methods\n",
    "    1. len(<name of the string>)\n",
    "    2. say the string is \"ojas\" then 3*\"ojas\" would give \"ojas ojas ojas\"\n",
    "    3. .upper() converts the string to uppercase\n",
    "    4. \\n, \\t are escape sequences\n",
    "    5. .replace(string to be replaced, desired replacement)\n",
    "    6. .find(substring to be found) returns the first index of occurence of the substring\n",
    "5. String Interpolation (f-strings) various ways to format strings with variable inputs are\n",
    "    1. print(f\"My name is {name} and I am {age} years old.\") (**note the f**)\n",
    "    2. print(\"My name is {} and I am {} years old.\".format(name, age))\n",
    "    3. print(\"My name is %s and I am %d years old.\" % (name, age))\n",
    "6. To ignore the escape sequences, we can use **raw strings** . the syntax is r\"...\"\n",
    "7. To split strings at a specified separator and hence form a list of components do the following"
   ]
  },
  {
   "cell_type": "code",
   "execution_count": 11,
   "metadata": {},
   "outputs": [
    {
     "name": "stdout",
     "output_type": "stream",
     "text": [
      "['Ojas', 'Madghe']\n"
     ]
    }
   ],
   "source": [
    "my_string = \"Ojas Madghe\"\n",
    "split_string = my_string.split(\" \")\n",
    "print(split_string)"
   ]
  },
  {
   "cell_type": "markdown",
   "metadata": {},
   "source": [
    "## RegEx\n",
    "1. It is a module that provides several functions for handling strings\n",
    "2. \\d is digit\n",
    "3. \\D is non-digit character\n",
    "4. \\w is a word character (a-z, A-Z, 0-9, _)\n",
    "5. \\W is a non-word character (@,#,$,%)\n",
    "6. \\s is a whitespace\n",
    "7. \\b **boundary between word and non-word** ( example \\bcat\\b is matched in \"cat\" in the string \"The cat is cute\")\n",
    "8. \\B **boundary between word and word** (example \\bcat\\b is matched in the string \"category\" as \"cat\" is present before \"egory\")\n",
    "9. Other RegEx methods also exist. Explore them"
   ]
  },
  {
   "cell_type": "code",
   "execution_count": 12,
   "metadata": {},
   "outputs": [
    {
     "name": "stdout",
     "output_type": "stream",
     "text": [
      "Phone number is: 9552546252\n"
     ]
    }
   ],
   "source": [
    "# code to detect phone numbers in a given field\n",
    "import re\n",
    "pattern = r\"\\d\\d\\d\\d\\d\\d\\d\\d\\d\\d\"\n",
    "my_details = \" My phone number is 9552546252\"\n",
    "match = re.search(pattern, my_details) #read as search for pattern in my_details\n",
    "if match:\n",
    "    print(\"Phone number is:\", match.group())\n",
    "else :\n",
    "    print(\"No phone number found\")\n"
   ]
  }
 ],
 "metadata": {
  "kernelspec": {
   "display_name": "Python 3",
   "language": "python",
   "name": "python3"
  },
  "language_info": {
   "codemirror_mode": {
    "name": "ipython",
    "version": 3
   },
   "file_extension": ".py",
   "mimetype": "text/x-python",
   "name": "python",
   "nbconvert_exporter": "python",
   "pygments_lexer": "ipython3",
   "version": "3.11.9"
  }
 },
 "nbformat": 4,
 "nbformat_minor": 2
}
