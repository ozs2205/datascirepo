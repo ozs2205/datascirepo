{
 "cells": [
  {
   "cell_type": "markdown",
   "metadata": {},
   "source": [
    "## Pandas"
   ]
  },
  {
   "cell_type": "code",
   "execution_count": 1,
   "metadata": {},
   "outputs": [],
   "source": [
    "import pandas as pd"
   ]
  },
  {
   "cell_type": "code",
   "execution_count": 2,
   "metadata": {},
   "outputs": [],
   "source": [
    "data = pd.read_csv('D:\\DataSci\\Resources\\\\recipes.csv')"
   ]
  },
  {
   "cell_type": "code",
   "execution_count": null,
   "metadata": {},
   "outputs": [],
   "source": [
    "print(data.head())"
   ]
  },
  {
   "cell_type": "markdown",
   "metadata": {},
   "source": [
    "We can create a dataframe from a dictionary where keys assume the value of column headers and keys as column values"
   ]
  },
  {
   "cell_type": "code",
   "execution_count": 5,
   "metadata": {},
   "outputs": [
    {
     "name": "stdout",
     "output_type": "stream",
     "text": [
      "  Name  Age\n",
      "0    A   19\n",
      "1    B   37\n",
      "2    C   18\n"
     ]
    }
   ],
   "source": [
    "student_details = {\"Name\": [\"A\",\"B\",\"C\"], \"Age\": [19,37,18]}\n",
    "student_df = pd.DataFrame(student_details)\n",
    "print(student_df)\n"
   ]
  },
  {
   "cell_type": "markdown",
   "metadata": {},
   "source": [
    "we can extract a part of a big dataframe by just typing the name of the dataframe and the required columns in a square bracket [] and assigning it to some variable. example"
   ]
  },
  {
   "cell_type": "code",
   "execution_count": 8,
   "metadata": {},
   "outputs": [
    {
     "name": "stdout",
     "output_type": "stream",
     "text": [
      "      country egg\n",
      "0  Vietnamese  No\n",
      "1  Vietnamese  No\n",
      "2  Vietnamese  No\n",
      "3  Vietnamese  No\n",
      "4  Vietnamese  No\n"
     ]
    }
   ],
   "source": [
    "small_recipe = data[[\"country\",\"egg\"]]\n",
    "print(small_recipe.head())"
   ]
  },
  {
   "cell_type": "markdown",
   "metadata": {},
   "source": [
    "using the **iloc** function we can access specified cell(s) of the dataframe. we need to specify the indices to work with iloc. Let us try to get the info of the 100-110th recipe in the table"
   ]
  },
  {
   "cell_type": "code",
   "execution_count": null,
   "metadata": {},
   "outputs": [],
   "source": [
    "df_2 = data.iloc[100:110:,::]\n",
    "print(df_2)"
   ]
  },
  {
   "cell_type": "markdown",
   "metadata": {},
   "source": [
    "Similarly we can make use of the **loc** function to access cells by specifying column names and row index"
   ]
  },
  {
   "cell_type": "code",
   "execution_count": null,
   "metadata": {},
   "outputs": [],
   "source": [
    "df_3 = data.loc[:,['country','egg']]\n",
    "print(df_3.head())"
   ]
  },
  {
   "cell_type": "code",
   "execution_count": null,
   "metadata": {},
   "outputs": [],
   "source": [
    "df_4 = data.loc[(data.country==\"Japan\") & (data.egg=='Yes')] # this logical operation of == or != etc on a dataframe (column) \n",
    "print(df_4[['country','egg']].head()) #returns a column of bool inputs (True,False,True,True..etc) so putting them in loc fetches just the desired values"
   ]
  },
  {
   "cell_type": "markdown",
   "metadata": {},
   "source": [
    "explorting the **unique** function of pandas"
   ]
  },
  {
   "cell_type": "code",
   "execution_count": null,
   "metadata": {},
   "outputs": [],
   "source": [
    "print(data['country'].unique())\n",
    "print(data['country'].nunique())"
   ]
  },
  {
   "cell_type": "markdown",
   "metadata": {},
   "source": [
    "## Series"
   ]
  },
  {
   "cell_type": "markdown",
   "metadata": {},
   "source": [
    "Pandas Series come with various attributes and methods to help you manipulate and analyze data effectively. Here are a few essential ones:\n",
    "\n",
    "* values: Returns the Series data as a NumPy array.\n",
    "* index: Returns the index (labels) of the Series.\n",
    "* shape: Returns a tuple representing the dimensions of the Series.\n",
    "* size: Returns the number of elements in the Series.\n",
    "* mean(), sum(), min(), max(): Calculate summary statistics of the data.\n",
    "* unique(), nunique(): Get unique values or the number of unique values.\n",
    "* sort_values(), sort_index(): Sort the Series by values or index labels.\n",
    "* isnull(), notnull(): Check for missing (NaN) or non-missing values.\n",
    "* apply(): Apply a custom function to each element of the Series.\n",
    "\n",
    "example of series\n"
   ]
  },
  {
   "cell_type": "code",
   "execution_count": null,
   "metadata": {},
   "outputs": [],
   "source": [
    "data_2= range(6)\n",
    "s= pd.Series(data_2)\n",
    "print(s)\n",
    "print(s.unique())\n",
    "print(s.nunique())\n",
    "print(s.notnull())\n",
    "print(s.mean())"
   ]
  },
  {
   "cell_type": "markdown",
   "metadata": {},
   "source": [
    "## DataFrame"
   ]
  },
  {
   "cell_type": "markdown",
   "metadata": {},
   "source": [
    "* Dataframes can be created from dictionaries\n",
    "* shape: Returns the dimensions (number of rows and columns) of the DataFrame.\n",
    "* info(): Provides a summary of the DataFrame, including data types and non-null counts.\n",
    "* describe(): Generates summary statistics for numerical columns.\n",
    "* head(), tail(): Displays the first or last n rows of the DataFrame.\n",
    "* mean(), sum(), min(), max(): Calculate summary statistics for columns.\n",
    "* sort_values(): Sort the DataFrame by one or more columns.\n",
    "* groupby(): Group data based on specific columns for aggregation.\n",
    "* fillna(), drop(), rename(): Handle missing values, drop columns, or rename columns.\n",
    "* apply(): Apply a function to each element, row, or column of the DataFrame."
   ]
  },
  {
   "cell_type": "code",
   "execution_count": null,
   "metadata": {},
   "outputs": [],
   "source": [
    "#print(data.info())\n",
    "#print(data.describe())\n",
    "data_3 = (data.groupby(by=[\"country\",\"egg\"])).count()\n",
    "print(data_3)"
   ]
  },
  {
   "cell_type": "markdown",
   "metadata": {},
   "source": [
    "## Exercise"
   ]
  },
  {
   "cell_type": "code",
   "execution_count": 60,
   "metadata": {},
   "outputs": [
    {
     "name": "stdout",
     "output_type": "stream",
     "text": [
      "  Student  Age Country  Marks\n",
      "0   David   27      UK     85\n",
      "1  Samuel   24     CAN     72\n",
      "2   Terry   22     CHI     88\n",
      "3    Evan   32     USA     93\n"
     ]
    }
   ],
   "source": [
    "my_dict = {'Student':['David','Samuel','Terry','Evan'],'Age':[27,24,22,32],'Country':['UK','CAN','CHI','USA'],\"Marks\":[85,72,88,93]}\n",
    "data_4 = pd.DataFrame(my_dict)\n",
    "print(data_4)"
   ]
  },
  {
   "cell_type": "code",
   "execution_count": 63,
   "metadata": {},
   "outputs": [
    {
     "name": "stdout",
     "output_type": "stream",
     "text": [
      "   Marks\n",
      "0     85\n",
      "1     72\n",
      "2     88\n",
      "3     93\n"
     ]
    }
   ],
   "source": [
    "b = data_4[['Marks']]\n",
    "print(b)"
   ]
  },
  {
   "cell_type": "code",
   "execution_count": 67,
   "metadata": {},
   "outputs": [
    {
     "name": "stdout",
     "output_type": "stream",
     "text": [
      "  Country Student\n",
      "a      UK   David\n",
      "b     CAN  Samuel\n",
      "c     CHI   Terry\n",
      "d     USA    Evan\n"
     ]
    }
   ],
   "source": [
    "c = data_4[['Country','Student']]\n",
    "print(c)"
   ]
  },
  {
   "cell_type": "code",
   "execution_count": 70,
   "metadata": {},
   "outputs": [
    {
     "name": "stdout",
     "output_type": "stream",
     "text": [
      "  Student  Age Country  Marks\n",
      "0   David   27      UK     85\n",
      "1  Samuel   24     CAN     72\n",
      "2   Terry   22     CHI     88\n",
      "3    Evan   32     USA     93\n",
      "  Student  Age Country  Marks\n",
      "a   David   27      UK     85\n",
      "b  Samuel   24     CAN     72\n",
      "c   Terry   22     CHI     88\n",
      "d    Evan   32     USA     93\n"
     ]
    }
   ],
   "source": [
    "data_5 = pd.DataFrame(data_4)\n",
    "data_5.index= ['a','b','c','d']\n",
    "print(data_4)\n",
    "print(data_5)"
   ]
  },
  {
   "cell_type": "code",
   "execution_count": null,
   "metadata": {},
   "outputs": [],
   "source": []
  }
 ],
 "metadata": {
  "kernelspec": {
   "display_name": "Python 3",
   "language": "python",
   "name": "python3"
  },
  "language_info": {
   "codemirror_mode": {
    "name": "ipython",
    "version": 3
   },
   "file_extension": ".py",
   "mimetype": "text/x-python",
   "name": "python",
   "nbconvert_exporter": "python",
   "pygments_lexer": "ipython3",
   "version": "3.11.9"
  }
 },
 "nbformat": 4,
 "nbformat_minor": 2
}
