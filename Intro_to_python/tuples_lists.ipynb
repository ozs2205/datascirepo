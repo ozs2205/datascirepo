{
 "cells": [
  {
   "cell_type": "markdown",
   "metadata": {},
   "source": [
    "# Data Structures - Tuples and Lists\n",
    "## Tuples\n",
    " 1. Tuples are immutable data structures\n",
    "2. syntax is "
   ]
  },
  {
   "cell_type": "code",
   "execution_count": null,
   "metadata": {},
   "outputs": [],
   "source": [
    "my_tuple= (1,2,3,4)\n",
    "print(type(my_tuple))"
   ]
  },
  {
   "cell_type": "markdown",
   "metadata": {},
   "source": [
    "3. Tuples can also contain various data types . example"
   ]
  },
  {
   "cell_type": "code",
   "execution_count": null,
   "metadata": {},
   "outputs": [],
   "source": [
    "my_mixed_tuple = (\"Ojas\", \"Pune\", 19, 9.76)\n",
    "print(type(my_mixed_tuple))"
   ]
  },
  {
   "cell_type": "markdown",
   "metadata": {},
   "source": [
    "4. Tuples can also be nested and to access them we use the same-old indexing syntax in series. example"
   ]
  },
  {
   "cell_type": "code",
   "execution_count": null,
   "metadata": {},
   "outputs": [],
   "source": [
    "my_nested_tuple = ((\"A\",\"A-\",\"A+\"),(\"Ojas\", \"Pune\", 19, 9.76), '9552546252', 76,6.2)\n",
    "# we can also make such tuples by concatenating various tuples\n",
    "x = my_nested_tuple[1][0][0] #this can be read as access the index 0 of the index 0 of the index 1 of the nested tuple\n",
    "print(x) #so this should print the first letter of the first element of the 2nd element of the main tuple which is O of the Ojas"
   ]
  },
  {
   "cell_type": "markdown",
   "metadata": {},
   "source": [
    "5. There is a difference in assigning and referencing as we can see below"
   ]
  },
  {
   "cell_type": "code",
   "execution_count": null,
   "metadata": {},
   "outputs": [],
   "source": [
    "my_new_tuple = my_nested_tuple\n",
    "#both the variables \"refer\" to the same tuple\n",
    "#my_new_tuple[0]= \"Madghe\"  --> invalid since tuples are immutable\n",
    "#to \"CHANGE\" the tuple we need to assign it a new tuple. We can do that as\n",
    "print(my_new_tuple)\n",
    "ratings_tuple= (1,2,89,0,78,11)\n",
    "my_new_tuple = sorted(ratings_tuple)\n",
    "print(my_new_tuple)\n",
    "print(my_nested_tuple)\n",
    "# here we see that even when \"my_new_tuple\" references a new tuple now, the actual tuple it was referencing in the past is unchanged\n",
    "# this demonstrates the immutability of tuples\n"
   ]
  },
  {
   "cell_type": "markdown",
   "metadata": {},
   "source": [
    "6. We can also concatenate tuples into a new tuple. example"
   ]
  },
  {
   "cell_type": "code",
   "execution_count": null,
   "metadata": {},
   "outputs": [],
   "source": [
    "my_concat_tuple = ratings_tuple + my_nested_tuple\n",
    "print(my_concat_tuple)\n"
   ]
  },
  {
   "cell_type": "code",
   "execution_count": 13,
   "metadata": {},
   "outputs": [
    {
     "name": "stdout",
     "output_type": "stream",
     "text": [
      "(1, 2, 4, 5, 6, 3)\n"
     ]
    }
   ],
   "source": [
    "tuple_A = (1,2,4,5,6,3)\n",
    "tuple_B = tuple(tuple_A)\n",
    "tuple_A = sorted(tuple_A)\n",
    "print(tuple_B)"
   ]
  },
  {
   "cell_type": "markdown",
   "metadata": {},
   "source": [
    "## Lists\n",
    "1. They are **identical** to tuples except that they *ARE* mutable\n",
    "2. So instead of concatenating two lists (which is also possible btw), we can simply *extend* a list using the .extend(<new list>) or .append(<new item>) functions\n",
    "3. We can also do direct editing of the elements of the list\n",
    "4. refer to the split function in strings (which creates a list)\n",
    "5.  Referencing in Lists has the effect of mutability. see the code below"
   ]
  },
  {
   "cell_type": "code",
   "execution_count": null,
   "metadata": {},
   "outputs": [
    {
     "name": "stdout",
     "output_type": "stream",
     "text": [
      "1\n",
      "5\n"
     ]
    }
   ],
   "source": [
    "my_list_A = [1,2,3,4]\n",
    "my_list_B = my_list_A\n",
    "print(my_list_B[0])\n",
    "my_list_A[0]=5\n",
    "print(my_list_B[0]) # we see that changing A also changes B since both of them \"REFER\" to the same list"
   ]
  },
  {
   "cell_type": "markdown",
   "metadata": {},
   "source": [
    "6. Instead of *refering* if we wish to *clone* a list then the syntax is "
   ]
  },
  {
   "cell_type": "code",
   "execution_count": null,
   "metadata": {},
   "outputs": [],
   "source": [
    "my_list_B= my_list_A[:]\n",
    "#or\n",
    "my_list_C = list(my_list_A) \n",
    "# here any change in A wont change anything in C or B"
   ]
  },
  {
   "cell_type": "markdown",
   "metadata": {},
   "source": [
    "### Exercise (Shopping List)"
   ]
  },
  {
   "cell_type": "code",
   "execution_count": 22,
   "metadata": {},
   "outputs": [
    {
     "data": {
      "text/plain": [
       "['Watch', 'Laptop', 'Shoes', 'Notebook', 'Football']"
      ]
     },
     "execution_count": 22,
     "metadata": {},
     "output_type": "execute_result"
    }
   ],
   "source": [
    "shop_list = list()\n",
    "shop_list.extend([\"Watch\", \"Laptop\", \"Shoes\", \"Pen\", \"Clothes\"])\n",
    "shop_list.append(\"Football\")\n",
    "shop_list[3]=\"Notebook\"\n",
    "shop_list.remove(\"Clothes\")\n",
    "shop_list"
   ]
  },
  {
   "cell_type": "code",
   "execution_count": 23,
   "metadata": {},
   "outputs": [
    {
     "name": "stdout",
     "output_type": "stream",
     "text": [
      "[1, 2, 3, 1, 1, 1]\n"
     ]
    }
   ],
   "source": [
    "print([1,2,3]+[1,1,1])"
   ]
  },
  {
   "cell_type": "code",
   "execution_count": null,
   "metadata": {},
   "outputs": [],
   "source": []
  }
 ],
 "metadata": {
  "kernelspec": {
   "display_name": "Python 3",
   "language": "python",
   "name": "python3"
  },
  "language_info": {
   "codemirror_mode": {
    "name": "ipython",
    "version": 3
   },
   "file_extension": ".py",
   "mimetype": "text/x-python",
   "name": "python",
   "nbconvert_exporter": "python",
   "pygments_lexer": "ipython3",
   "version": "3.11.9"
  }
 },
 "nbformat": 4,
 "nbformat_minor": 2
}
