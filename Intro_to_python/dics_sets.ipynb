{
 "cells": [
  {
   "cell_type": "markdown",
   "metadata": {},
   "source": [
    "# Dictionaries and Sets\n",
    "## Dictionaries\n",
    "1. key-value pairs\n",
    "2. syntax is "
   ]
  },
  {
   "cell_type": "code",
   "execution_count": null,
   "metadata": {},
   "outputs": [
    {
     "name": "stdout",
     "output_type": "stream",
     "text": [
      "<class 'dict'>\n"
     ]
    }
   ],
   "source": [
    "my_dic = {\"Name\":\"Ojas Madghe\", \"Age\": 19, \"CGPA\": 9.76} # {key:value, key:value, ...}\n",
    "print(type(my_dic))"
   ]
  },
  {
   "cell_type": "markdown",
   "metadata": {},
   "source": [
    "3. To access or add new key value pairs from/to the dictionary, use dictionary_name[key_name] like we use indexing in lists and tuples"
   ]
  },
  {
   "cell_type": "code",
   "execution_count": 4,
   "metadata": {},
   "outputs": [
    {
     "name": "stdout",
     "output_type": "stream",
     "text": [
      "Ojas Madghe\n",
      "{'Name': 'Ojas Madghe', 'Age': 19, 'CGPA': 9.76, 'Contact': '9552546252'}\n"
     ]
    }
   ],
   "source": [
    "print(my_dic[\"Name\"])\n",
    "my_dic[\"Contact\"] = '9552546252'\n",
    "print(my_dic)"
   ]
  },
  {
   "cell_type": "markdown",
   "metadata": {},
   "source": [
    "4. using the **in** command in dictionaries"
   ]
  },
  {
   "cell_type": "code",
   "execution_count": 5,
   "metadata": {},
   "outputs": [
    {
     "name": "stdout",
     "output_type": "stream",
     "text": [
      "True\n"
     ]
    }
   ],
   "source": [
    "print(\"Name\" in my_dic)"
   ]
  },
  {
   "cell_type": "markdown",
   "metadata": {},
   "source": [
    "5. obtaining lists of all keys and all values in a dictionary"
   ]
  },
  {
   "cell_type": "code",
   "execution_count": 6,
   "metadata": {},
   "outputs": [
    {
     "name": "stdout",
     "output_type": "stream",
     "text": [
      "dict_keys(['Name', 'Age', 'CGPA', 'Contact'])\n",
      "dict_values(['Ojas Madghe', 19, 9.76, '9552546252'])\n"
     ]
    }
   ],
   "source": [
    "print(my_dic.keys())\n",
    "print(my_dic.values())"
   ]
  },
  {
   "cell_type": "markdown",
   "metadata": {},
   "source": [
    "6. We can also delete dictionary entries as shown"
   ]
  },
  {
   "cell_type": "code",
   "execution_count": 7,
   "metadata": {},
   "outputs": [
    {
     "data": {
      "text/plain": [
       "{'Name': 'Ojas Madghe', 'Age': 19, 'CGPA': 9.76}"
      ]
     },
     "execution_count": 7,
     "metadata": {},
     "output_type": "execute_result"
    }
   ],
   "source": [
    "del[my_dic['Contact']]\n",
    "my_dic"
   ]
  },
  {
   "cell_type": "markdown",
   "metadata": {},
   "source": [
    "## Exercise"
   ]
  },
  {
   "cell_type": "code",
   "execution_count": 9,
   "metadata": {},
   "outputs": [
    {
     "data": {
      "text/plain": [
       "{'Product Name': 'Phone',\n",
       " 'Product Quantity': 5,\n",
       " 'Product Price': 20000,\n",
       " 'Product Release Year': 2020}"
      ]
     },
     "execution_count": 9,
     "metadata": {},
     "output_type": "execute_result"
    }
   ],
   "source": [
    "inv_dic = {}\n",
    "inv_dic['Product Name'] = \"Phone\"\n",
    "inv_dic['Product Quantity']= 5\n",
    "inv_dic['Product Price']= 20000\n",
    "inv_dic['Product Release Year']= 2020\n",
    "\n",
    "inv_dic\n"
   ]
  },
  {
   "cell_type": "code",
   "execution_count": 11,
   "metadata": {},
   "outputs": [
    {
     "name": "stdout",
     "output_type": "stream",
     "text": [
      "{'Product Name': 'Phone', 'Product Quantity': 5, 'Product Price': 20000, 'Product Release Year': 2020}\n",
      "{'Product Name': 'Laptop', 'Product Quantity': 5, 'Product Price': 20000, 'Product Release Year': 2020}\n"
     ]
    }
   ],
   "source": [
    "inv_dic_2 = dict(inv_dic)\n",
    "inv_dic_2['Product Name']= \"Laptop\"\n",
    "print(inv_dic)\n",
    "print(inv_dic_2)"
   ]
  },
  {
   "cell_type": "markdown",
   "metadata": {},
   "source": [
    "## Sets\n",
    "1. Sets are unordered (do not store element position)\n",
    "2. Sets **DONOT HAVE DUPLICATES**\n",
    "3. syntax is {1,2,3,4,5}\n",
    "4. we can *typecast* lists into sets"
   ]
  },
  {
   "cell_type": "code",
   "execution_count": null,
   "metadata": {},
   "outputs": [
    {
     "name": "stdout",
     "output_type": "stream",
     "text": [
      "13\n",
      "9\n"
     ]
    }
   ],
   "source": [
    "my_list = [1,2,3,4,4,5,5,6,7,8,8,8,9]\n",
    "print(len(my_list))\n",
    "my_set = set(my_list)\n",
    "print(len(my_set))\n",
    "# so we can find the number of \"UNIQUE\" elements in the list by using sets"
   ]
  },
  {
   "cell_type": "markdown",
   "metadata": {},
   "source": [
    "### Set Operations\n",
    "1. .add()\n",
    "2. .remove()\n",
    "3.  <> **in** set A\n",
    "4. set A & set B --> **intersection**\n",
    "5. set A.union(set B) --> **union**\n",
    "6. set A.issubset(set B) (returns True or False) (*same for issuperset*)\n",
    "7. set A.difference(set B) --> only those elements which are present in set A but not in set B\n",
    "\n",
    "\n",
    "\n",
    "\n"
   ]
  },
  {
   "cell_type": "code",
   "execution_count": 14,
   "metadata": {},
   "outputs": [
    {
     "name": "stdout",
     "output_type": "stream",
     "text": [
      "{3, 4}\n"
     ]
    }
   ],
   "source": [
    "set_A = {1,2,3,4}\n",
    "set_B= {1,2,5,6}\n",
    "set_C = set_A.difference(set_B)\n",
    "print(set_C)"
   ]
  },
  {
   "cell_type": "code",
   "execution_count": null,
   "metadata": {},
   "outputs": [],
   "source": []
  }
 ],
 "metadata": {
  "kernelspec": {
   "display_name": "Python 3",
   "language": "python",
   "name": "python3"
  },
  "language_info": {
   "codemirror_mode": {
    "name": "ipython",
    "version": 3
   },
   "file_extension": ".py",
   "mimetype": "text/x-python",
   "name": "python",
   "nbconvert_exporter": "python",
   "pygments_lexer": "ipython3",
   "version": "3.11.9"
  }
 },
 "nbformat": 4,
 "nbformat_minor": 2
}
