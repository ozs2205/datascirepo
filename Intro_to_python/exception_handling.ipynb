{
 "cells": [
  {
   "cell_type": "markdown",
   "metadata": {},
   "source": [
    "## Exception Handling\n",
    "for exception handling, we use the \n",
    "try -- \n",
    "except 1 -- \n",
    "except 2 -- \n",
    "except -- \n",
    "else -- \n",
    "finally \n",
    "\n",
    "syntax"
   ]
  },
  {
   "cell_type": "code",
   "execution_count": null,
   "metadata": {},
   "outputs": [],
   "source": [
    "# potential code before try catch\n",
    "\n",
    "try:\n",
    "    # code to try to execute\n",
    "except:\n",
    "    # code to execute if there is an exception\n",
    "    \n",
    "# code that will still execute if there is an exception"
   ]
  },
  {
   "cell_type": "code",
   "execution_count": 1,
   "metadata": {},
   "outputs": [
    {
     "name": "stdout",
     "output_type": "stream",
     "text": [
      "Cannot divide by zero. Try something else\n"
     ]
    }
   ],
   "source": [
    "try:\n",
    "     10/0\n",
    "\n",
    "except ZeroDivisionError:\n",
    "     print(\"Cannot divide by zero. Try something else\")"
   ]
  },
  {
   "cell_type": "code",
   "execution_count": 3,
   "metadata": {},
   "outputs": [
    {
     "name": "stdout",
     "output_type": "stream",
     "text": [
      "Cant divide with zero try another number\n",
      "processing complete\n"
     ]
    }
   ],
   "source": [
    "a=10\n",
    "try:\n",
    "    b = int(input(\"Enter a number to divide a\"))\n",
    "    a=a/b\n",
    "except ZeroDivisionError:\n",
    "    print(\"Cant divide with zero try another number\")\n",
    "except ValueError:\n",
    "    print(\"Enter a number, nothing else\")\n",
    "except :\n",
    "    print(\"Something went wrong, we're trying to fix it\")\n",
    "else :\n",
    "    print(f\"sucess! a = {a}\")\n",
    "finally:\n",
    "    print(\"processing complete\")"
   ]
  },
  {
   "cell_type": "markdown",
   "metadata": {},
   "source": [
    "*Read about different types of errors from the internet*"
   ]
  },
  {
   "cell_type": "markdown",
   "metadata": {},
   "source": []
  }
 ],
 "metadata": {
  "kernelspec": {
   "display_name": "Python 3",
   "language": "python",
   "name": "python3"
  },
  "language_info": {
   "codemirror_mode": {
    "name": "ipython",
    "version": 3
   },
   "file_extension": ".py",
   "mimetype": "text/x-python",
   "name": "python",
   "nbconvert_exporter": "python",
   "pygments_lexer": "ipython3",
   "version": "3.11.9"
  }
 },
 "nbformat": 4,
 "nbformat_minor": 2
}
