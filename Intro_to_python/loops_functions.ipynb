{
 "cells": [
  {
   "cell_type": "markdown",
   "metadata": {},
   "source": [
    "# Loops and Functions\n"
   ]
  },
  {
   "cell_type": "code",
   "execution_count": null,
   "metadata": {},
   "outputs": [],
   "source": [
    "#range(N) returns a sequence [0,1,2,...,N-1] which can be converted to a list\n",
    "print(list(range(10)))\n",
    "#range(n,N) returns a sequence [n,n+1,...,N-1]\n",
    "print(list(range(5,11)))"
   ]
  },
  {
   "cell_type": "markdown",
   "metadata": {},
   "source": [
    "### For Loop\n"
   ]
  },
  {
   "cell_type": "code",
   "execution_count": null,
   "metadata": {},
   "outputs": [],
   "source": [
    "colors = ['red','blue','green','yellow','orange']\n",
    "print(colors)\n",
    "for i in range(len(colors)):\n",
    "    colors[i]=\"white\"\n",
    "\n",
    "print(colors)"
   ]
  },
  {
   "cell_type": "markdown",
   "metadata": {},
   "source": [
    " **We can directly access the elements of a list, without the use of any *i*, *j* , etc**\n",
    " but in that we cannot do assignment. so using the enumerate function makes a lot of sense"
   ]
  },
  {
   "cell_type": "code",
   "execution_count": null,
   "metadata": {},
   "outputs": [],
   "source": [
    "\n",
    "colors_2 = ['red','blue','green','yellow','orange'] \n",
    "# print(tuple(enumerate(colors_2))) returns ((0, 'red'), (1, 'blue'), (2, 'green'), (3, 'yellow'), (4, 'orange'))\n",
    "for i,color in enumerate(colors_2):\n",
    "    colors_2[i]= 'white'\n",
    "\n",
    "print(colors_2)"
   ]
  },
  {
   "cell_type": "markdown",
   "metadata": {},
   "source": [
    "### While Loops"
   ]
  },
  {
   "cell_type": "code",
   "execution_count": 14,
   "metadata": {},
   "outputs": [
    {
     "name": "stdout",
     "output_type": "stream",
     "text": [
      "[2, 4, 8, 98, 1980, 1092, 998, 224, 80]\n"
     ]
    }
   ],
   "source": [
    "numbers = [1,2,4,5,8,98,281,1980,1092,998,224,221,281,80,103]\n",
    "even_numbers = []\n",
    "i = 0\n",
    "while i<len(numbers):\n",
    "    if numbers[i]%2==0:\n",
    "        even_numbers.append(numbers[i])\n",
    "    else:\n",
    "        pass\n",
    "    i=i+1\n",
    "\n",
    "\n",
    "print(even_numbers)\n"
   ]
  },
  {
   "cell_type": "markdown",
   "metadata": {},
   "source": [
    "### Functions"
   ]
  },
  {
   "cell_type": "markdown",
   "metadata": {},
   "source": [
    "#### Sorted v/s Sort \n",
    "Sorted is a general function and it returns a **new list** while .sort() is a list method and **modifies** the original list"
   ]
  },
  {
   "cell_type": "code",
   "execution_count": null,
   "metadata": {},
   "outputs": [],
   "source": [
    "list_1= [1,2,7,3,9,6,5]\n",
    "list_2 = sorted(list_1)\n",
    "print(list_2)\n",
    "print(list_1)\n",
    "list_1.sort()\n",
    "print(list_1)\n",
    "#the output is\n",
    "#[1, 2, 3, 5, 6, 7, 9]\n",
    "#[1, 2, 7, 3, 9, 6, 5]\n",
    "#[1, 2, 3, 5, 6, 7, 9]"
   ]
  },
  {
   "cell_type": "code",
   "execution_count": 19,
   "metadata": {},
   "outputs": [
    {
     "name": "stdout",
     "output_type": "stream",
     "text": [
      "45\n"
     ]
    }
   ],
   "source": [
    "def my_func(a):\n",
    "    #multiplies the passed number with 5\n",
    "    return a*5\n",
    "\n",
    "print(my_func(9))\n",
    "\n"
   ]
  },
  {
   "cell_type": "markdown",
   "metadata": {},
   "source": [
    "*We can pass a variable number of arguments to a function using an asterisk \\**"
   ]
  },
  {
   "cell_type": "code",
   "execution_count": null,
   "metadata": {},
   "outputs": [
    {
     "name": "stdout",
     "output_type": "stream",
     "text": [
      "the name of player 1 is Ojas\n",
      "the name of player 2 is Aayush\n",
      "the name of player 3 is Arnav\n",
      "the name of player 4 is Aditya\n",
      "the name of player 1 is Ojas\n",
      "the name of player 2 is Aayush\n",
      "the name of player 3 is Arnav\n",
      "the name of player 4 is Aditya\n",
      "the name of player 5 is Vishnu\n",
      "The age of Ojas is 19\n",
      "The age of Aayush is 21\n",
      "The age of Arnav is 18\n"
     ]
    }
   ],
   "source": [
    "def print_names(*names): #here *names is a tuple of variable size\n",
    "    for i in range(len(names)):\n",
    "        print('the name of player %d is %s' %(i+1, names[i]))\n",
    "\n",
    "print_names(\"Ojas\", \"Aayush\", \"Arnav\", \"Aditya\")\n",
    "print_names(\"Ojas\", \"Aayush\", \"Arnav\", \"Aditya\",\"Vishnu\")\n",
    "\n",
    "#we could've also defined a function designed to take in a list but this is helpful info\n",
    "\n",
    "def print_ages(**info):\n",
    "    for name in info: #name is same as key and info[key] will give the corresponding value\n",
    "        print(f'The age of {name} is {info[name]}')\n",
    "\n",
    "print_ages(Ojas=19, Aayush=21, Arnav=18)"
   ]
  },
  {
   "cell_type": "markdown",
   "metadata": {},
   "source": [
    "*revise local and global scope if needed*"
   ]
  },
  {
   "cell_type": "code",
   "execution_count": 28,
   "metadata": {},
   "outputs": [
    {
     "name": "stdout",
     "output_type": "stream",
     "text": [
      "18\n",
      "18\n"
     ]
    }
   ],
   "source": [
    "# explicitly defining a variable to be global in a function\n",
    "\n",
    "def globalising(a):\n",
    "    global age\n",
    "    age =18\n",
    "    print(age)\n",
    "\n",
    "globalising(10)\n",
    "print(age)"
   ]
  },
  {
   "cell_type": "markdown",
   "metadata": {},
   "source": [
    "#### Exercise"
   ]
  },
  {
   "cell_type": "code",
   "execution_count": 42,
   "metadata": {},
   "outputs": [
    {
     "name": "stdout",
     "output_type": "stream",
     "text": [
      "{'Mary': 6, 'had': 2, 'a': 2, 'little': 3, 'lamb': 5, 'Little': 1, ',': 1, '.': 1, 'Its': 1, 'fleece': 1, 'was': 2, 'white': 1, 'as': 1, 'snow': 1, 'And': 1, 'everywhere': 1, 'that': 2, 'went': 3, 'went,': 1, 'Everywhere': 1, 'The': 1, 'sure': 1, 'to': 1, 'go': 1}\n"
     ]
    }
   ],
   "source": [
    "main_str = \"Mary had a little lamb Little lamb , little lamb Mary had a little lamb . Its fleece was white as snow And everywhere that Mary went Mary went, Mary went \\\n",
    "Everywhere that Mary went The lamb was sure to go\"\n",
    "\n",
    "# to find the frequency of each word in the given sentence\n",
    "\n",
    "def freq(string):\n",
    "    word_list =[]\n",
    "    word_list = string.split()\n",
    "    word_dict= {}\n",
    "    for i in word_list:\n",
    "        word_dict[i]= word_list.count(i)\n",
    "    \n",
    "    return word_dict\n",
    "\n",
    "\n",
    "print(freq(main_str))"
   ]
  },
  {
   "cell_type": "markdown",
   "metadata": {},
   "source": [
    "We can also set a default argument to the function parameters as shown"
   ]
  },
  {
   "cell_type": "code",
   "execution_count": 43,
   "metadata": {},
   "outputs": [
    {
     "name": "stdout",
     "output_type": "stream",
     "text": [
      "the rating is 10\n",
      "the rating is 5\n"
     ]
    }
   ],
   "source": [
    "def ratings(rating=5):\n",
    "    print(f'the rating is {rating}')\n",
    "\n",
    "ratings(10)\n",
    "ratings()"
   ]
  },
  {
   "cell_type": "markdown",
   "metadata": {},
   "source": [
    "### Recursive Functions"
   ]
  },
  {
   "cell_type": "code",
   "execution_count": 51,
   "metadata": {},
   "outputs": [
    {
     "name": "stdout",
     "output_type": "stream",
     "text": [
      "1\n",
      "1\n",
      "2\n",
      "3\n",
      "5\n",
      "8\n",
      "13\n"
     ]
    }
   ],
   "source": [
    "# trying out the fibonacci series\n",
    "def print_fibonacci(n):\n",
    "    for i in range(n):\n",
    "        print(fibonacci(i))\n",
    "def fibonacci(n):\n",
    "    if n==0:\n",
    "        return 1\n",
    "    elif n==1:\n",
    "        return 1\n",
    "    else :\n",
    "        return fibonacci(n-1) + fibonacci(n-2)\n",
    "    \n",
    "print_fibonacci(7)"
   ]
  },
  {
   "cell_type": "markdown",
   "metadata": {},
   "source": [
    "### Lambda Functions"
   ]
  },
  {
   "cell_type": "code",
   "execution_count": null,
   "metadata": {},
   "outputs": [
    {
     "name": "stdout",
     "output_type": "stream",
     "text": [
      "30\n"
     ]
    }
   ],
   "source": [
    "#also called anonymous functions\n",
    "\n",
    "#say we want to find the product of two numbers a and b\n",
    "f= lambda a,b : a*b\n",
    "print(f(5,6))"
   ]
  },
  {
   "cell_type": "code",
   "execution_count": null,
   "metadata": {},
   "outputs": [],
   "source": []
  }
 ],
 "metadata": {
  "kernelspec": {
   "display_name": "Python 3",
   "language": "python",
   "name": "python3"
  },
  "language_info": {
   "codemirror_mode": {
    "name": "ipython",
    "version": 3
   },
   "file_extension": ".py",
   "mimetype": "text/x-python",
   "name": "python",
   "nbconvert_exporter": "python",
   "pygments_lexer": "ipython3",
   "version": "3.11.9"
  }
 },
 "nbformat": 4,
 "nbformat_minor": 2
}
