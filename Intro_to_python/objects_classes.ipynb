{
 "cells": [
  {
   "cell_type": "markdown",
   "metadata": {},
   "source": [
    "# Classes & Objects\n",
    "Classes are nothing but *types*. Objects are *instances* of these types. for eg : a = 5 is an object of type int. SO we can define our own classes and make instances/objects of these types. \n",
    "1. the def __init__ (self, a, b, c..) is the constructor \n",
    "2. we can define more methods using def inside the class declaration block"
   ]
  },
  {
   "cell_type": "code",
   "execution_count": 1,
   "metadata": {},
   "outputs": [],
   "source": [
    "class Circle:\n",
    "    def __init__ (self,radius,color):\n",
    "        self.radius = radius\n",
    "        self.color = color\n",
    "    \n",
    "\n",
    "c1 = Circle(10,'blue')\n",
    "c2 = Circle(12,'red')\n"
   ]
  },
  {
   "cell_type": "markdown",
   "metadata": {},
   "source": [
    "### Exercise-1"
   ]
  },
  {
   "cell_type": "code",
   "execution_count": 4,
   "metadata": {},
   "outputs": [
    {
     "name": "stdout",
     "output_type": "stream",
     "text": [
      "The car is running at 30 km/h\n",
      "The car is running at 20 km/h\n"
     ]
    }
   ],
   "source": [
    "class car:\n",
    "    max_speed = 120\n",
    "\n",
    "    def __init__(self,make,model,color,speed=0):\n",
    "        self.make = make\n",
    "        self.model = model\n",
    "        self.color = color\n",
    "        self.speed = speed\n",
    "    \n",
    "    def accelerate (self,acceleration):\n",
    "        if self.speed + acceleration <= car.max_speed:\n",
    "            self.speed += acceleration\n",
    "        else:\n",
    "            self.speed = car.max_speed\n",
    "    \n",
    "    def get_speed (self):\n",
    "        print(f\"The car is running at {self.speed} km/h\")\n",
    "\n",
    "\n",
    "car1 = car(\"Toyota\", \"Camry\", \"Blue\")\n",
    "car2 = car(\"Honda\", \"Civic\", \"Red\")\n",
    "\n",
    "car1.accelerate(30)\n",
    "car2.accelerate(20)\n",
    "\n",
    "car1.get_speed()\n",
    "car2.get_speed()\n",
    "        "
   ]
  },
  {
   "cell_type": "markdown",
   "metadata": {},
   "source": [
    "### Exercise-2"
   ]
  },
  {
   "cell_type": "code",
   "execution_count": 8,
   "metadata": {},
   "outputs": [
    {
     "data": {
      "image/png": "[encoded data removed]",
      "text/plain": [
       "<Figure size 640x480 with 1 Axes>"
      ]
     },
     "metadata": {},
     "output_type": "display_data"
    }
   ],
   "source": [
    "import matplotlib.pyplot as plt\n",
    "%matplotlib inline \n",
    "\n",
    "class circle:\n",
    "    def __init__(self,radius,color):\n",
    "        self.radius = radius\n",
    "        self.color = color\n",
    "    \n",
    "    def add_radius(self,radius):\n",
    "        self.radius = self.radius + radius\n",
    "        return self.radius\n",
    "    \n",
    "    def draw_circle(self):\n",
    "        plt.gca().add_patch(plt.Circle((0, 0), radius=self.radius, fc=self.color))\n",
    "        plt.axis('scaled')\n",
    "        plt.show()  \n",
    "\n",
    "\n",
    "c1 = circle(10,'blue')\n",
    "c1.add_radius(2)\n",
    "c1.draw_circle()\n"
   ]
  },
  {
   "cell_type": "code",
   "execution_count": 13,
   "metadata": {},
   "outputs": [
    {
     "data": {
      "image/png": "[encoded data removed]",
      "text/plain": [
       "<Figure size 640x480 with 1 Axes>"
      ]
     },
     "metadata": {},
     "output_type": "display_data"
    }
   ],
   "source": [
    "class rectangle :\n",
    "    def __init__ (self,length,width,color):\n",
    "        self.length= length\n",
    "        self.width = width\n",
    "        self.color = color\n",
    "\n",
    "    def add_width (self, b):\n",
    "        self.width += b\n",
    "        return self.width\n",
    "    \n",
    "    def add_length (self,l):\n",
    "        self.length += l\n",
    "        return self.length\n",
    "    \n",
    "    def draw_rectangle (self):\n",
    "        plt.gca().add_patch(plt.Rectangle((0, 0), self.width, self.length ,fc=self.color))\n",
    "        plt.axis('scaled')\n",
    "        plt.show()\n",
    "\n",
    "\n",
    "r1= rectangle(10,20,'green')\n",
    "r1.draw_rectangle()\n"
   ]
  },
  {
   "cell_type": "markdown",
   "metadata": {},
   "source": [
    "### Lab Assignment "
   ]
  },
  {
   "cell_type": "code",
   "execution_count": 30,
   "metadata": {},
   "outputs": [
    {
     "data": {
      "text/plain": [
       "{'lorem': 2,\n",
       " 'ipsum': 1,\n",
       " 'dolor': 1,\n",
       " 'diam': 5,\n",
       " 'amet': 2,\n",
       " 'consetetur': 1,\n",
       " 'magna': 2,\n",
       " 'sed': 1,\n",
       " 'nonumy': 1,\n",
       " 'eirmod': 1,\n",
       " 'tempor': 1,\n",
       " 'et': 3,\n",
       " 'labore': 1}"
      ]
     },
     "execution_count": 30,
     "metadata": {},
     "output_type": "execute_result"
    }
   ],
   "source": [
    "main_string = \"Lorem ipsum dolor! diam amet, consetetur Lorem magna. sed diam nonumy eirmod tempor. diam et labore? et diam magna. et diam amet.\"\n",
    "\n",
    "class TextAnalyzer :\n",
    "    def __init__ (self,text):\n",
    "        self.text = text\n",
    "        self.fmttext = None\n",
    "    \n",
    "    def formatText(self):\n",
    "        self.fmttext = self.text\n",
    "        self.fmttext = self.fmttext.lower()\n",
    "        self.fmttext = self.fmttext.replace(\",\",\"\")\n",
    "        self.fmttext = self.fmttext.replace(\"!\",\"\")\n",
    "        self.fmttext = self.fmttext.replace(\".\",\"\")\n",
    "        self.fmttext = self.fmttext.replace(\"?\",\"\")\n",
    "        \n",
    "        return self.fmttext\n",
    "    \n",
    "    def freqAll(self):\n",
    "        \n",
    "        wordDict = {}\n",
    "        wordList = []\n",
    "        wordList= self.fmttext.split()\n",
    "\n",
    "        for word in wordList:\n",
    "            wordDict[word]= wordList.count(word)\n",
    "\n",
    "        return wordDict\n",
    "    \n",
    "    \n",
    "\n",
    "        \n",
    "s1 = TextAnalyzer(main_string)\n",
    "s1.formatText()\n",
    "s1.freqAll()\n",
    "\n",
    "\n",
    "    \n"
   ]
  },
  {
   "cell_type": "markdown",
   "metadata": {},
   "source": []
  },
  {
   "cell_type": "code",
   "execution_count": null,
   "metadata": {},
   "outputs": [],
   "source": []
  }
 ],
 "metadata": {
  "kernelspec": {
   "display_name": "Python 3",
   "language": "python",
   "name": "python3"
  },
  "language_info": {
   "codemirror_mode": {
    "name": "ipython",
    "version": 3
   },
   "file_extension": ".py",
   "mimetype": "text/x-python",
   "name": "python",
   "nbconvert_exporter": "python",
   "pygments_lexer": "ipython3",
   "version": "3.11.9"
  }
 },
 "nbformat": 4,
 "nbformat_minor": 2
}
