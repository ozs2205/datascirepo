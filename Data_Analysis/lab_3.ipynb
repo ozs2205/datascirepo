{
 "cells": [
  {
   "cell_type": "code",
   "execution_count": 2,
   "metadata": {},
   "outputs": [],
   "source": [
    "import numpy as np\n",
    "import pandas as pd\n",
    "import matplotlib.pyplot as plt\n",
    "%matplotlib inline\n"
   ]
  },
  {
   "cell_type": "code",
   "execution_count": 7,
   "metadata": {},
   "outputs": [
    {
     "name": "stdout",
     "output_type": "stream",
     "text": [
      "   Unnamed: 0 Manufacturer  Category     Screen  GPU  OS  CPU_core  \\\n",
      "0           0         Acer         4  IPS Panel    2   1         5   \n",
      "1           1         Dell         3    Full HD    1   1         3   \n",
      "2           2         Dell         3    Full HD    1   1         7   \n",
      "3           3         Dell         4  IPS Panel    2   1         5   \n",
      "4           4           HP         4    Full HD    2   1         7   \n",
      "\n",
      "   Screen_Size_cm  CPU_frequency  RAM_GB  Storage_GB_SSD  Weight_kg  Price  \n",
      "0          35.560            1.6       8             256       1.60    978  \n",
      "1          39.624            2.0       4             256       2.20    634  \n",
      "2          39.624            2.7       8             256       2.20    946  \n",
      "3          33.782            1.6       8             128       1.22   1244  \n",
      "4          39.624            1.8       8             256       1.91    837  \n"
     ]
    }
   ],
   "source": [
    "df = pd.read_csv('D:\\DataSci\\Resources\\laptop_pricing_dataset_mod1.csv')\n",
    "print(df.head(5))"
   ]
  },
  {
   "cell_type": "code",
   "execution_count": 8,
   "metadata": {},
   "outputs": [
    {
     "data": {
      "text/plain": [
       "Unnamed: 0          int64\n",
       "Manufacturer       object\n",
       "Category            int64\n",
       "Screen             object\n",
       "GPU                 int64\n",
       "OS                  int64\n",
       "CPU_core            int64\n",
       "Screen_Size_cm    float64\n",
       "CPU_frequency     float64\n",
       "RAM_GB              int64\n",
       "Storage_GB_SSD      int64\n",
       "Weight_kg         float64\n",
       "Price               int64\n",
       "dtype: object"
      ]
     },
     "execution_count": 8,
     "metadata": {},
     "output_type": "execute_result"
    }
   ],
   "source": [
    "df.dtypes"
   ]
  },
  {
   "cell_type": "code",
   "execution_count": 10,
   "metadata": {},
   "outputs": [
    {
     "name": "stdout",
     "output_type": "stream",
     "text": [
      "   Unnamed: 0 Manufacturer  Category     Screen  GPU  OS  CPU_core  \\\n",
      "0           0         Acer         4  IPS Panel    2   1         5   \n",
      "1           1         Dell         3    Full HD    1   1         3   \n",
      "2           2         Dell         3    Full HD    1   1         7   \n",
      "3           3         Dell         4  IPS Panel    2   1         5   \n",
      "4           4           HP         4    Full HD    2   1         7   \n",
      "\n",
      "   Screen_Size_cm  CPU_frequency  RAM_GB  Storage_GB_SSD  Weight_kg  Price  \n",
      "0           35.56            1.6       8             256       1.60    978  \n",
      "1           39.62            2.0       4             256       2.20    634  \n",
      "2           39.62            2.7       8             256       2.20    946  \n",
      "3           33.78            1.6       8             128       1.22   1244  \n",
      "4           39.62            1.8       8             256       1.91    837  \n"
     ]
    }
   ],
   "source": [
    "#it looks like we need to round the screen size data to two decimal places. so we will do that by using the command\n",
    "df['Screen_Size_cm'] = np.round(df['Screen_Size_cm'], 2)\n",
    "print(df.head(5))"
   ]
  },
  {
   "cell_type": "code",
   "execution_count": null,
   "metadata": {},
   "outputs": [],
   "source": [
    "#identifying columns with missing values\n",
    "missing_data = df.isnull()\n",
    "print(missing_data.head(5))\n",
    "for column in list(missing_data.columns):\n",
    "    print(column)\n",
    "    print(missing_data[column].value_counts()) #value_counts returns the frequency of unique values in the column \n",
    "    print(\" \")"
   ]
  },
  {
   "cell_type": "code",
   "execution_count": 24,
   "metadata": {},
   "outputs": [
    {
     "name": "stdout",
     "output_type": "stream",
     "text": [
      "<class 'pandas.core.frame.DataFrame'>\n",
      "RangeIndex: 238 entries, 0 to 237\n",
      "Data columns (total 13 columns):\n",
      " #   Column          Non-Null Count  Dtype  \n",
      "---  ------          --------------  -----  \n",
      " 0   Unnamed: 0      238 non-null    int64  \n",
      " 1   Manufacturer    238 non-null    object \n",
      " 2   Category        238 non-null    int64  \n",
      " 3   Screen          238 non-null    object \n",
      " 4   GPU             238 non-null    int64  \n",
      " 5   OS              238 non-null    int64  \n",
      " 6   CPU_core        238 non-null    int64  \n",
      " 7   Screen_Size_cm  234 non-null    float64\n",
      " 8   CPU_frequency   238 non-null    float64\n",
      " 9   RAM_GB          238 non-null    int64  \n",
      " 10  Storage_GB_SSD  238 non-null    int64  \n",
      " 11  Weight_kg       238 non-null    float64\n",
      " 12  Price           238 non-null    int64  \n",
      "dtypes: float64(3), int64(8), object(2)\n",
      "memory usage: 24.3+ KB\n"
     ]
    },
    {
     "name": "stderr",
     "output_type": "stream",
     "text": [
      "C:\\Users\\Ojas\\AppData\\Local\\Temp\\ipykernel_10960\\3750497206.py:2: FutureWarning: A value is trying to be set on a copy of a DataFrame or Series through chained assignment using an inplace method.\n",
      "The behavior will change in pandas 3.0. This inplace method will never work because the intermediate object on which we are setting values always behaves as a copy.\n",
      "\n",
      "For example, when doing 'df[col].method(value, inplace=True)', try using 'df.method({col: value}, inplace=True)' or df[col] = df[col].method(value) instead, to perform the operation inplace on the original object.\n",
      "\n",
      "\n",
      "  df['Weight_kg'].replace(np.NaN,mean, inplace=True)\n"
     ]
    }
   ],
   "source": [
    "mean = np.mean(df['Weight_kg'],axis=0)\n",
    "df['Weight_kg'].replace(np.NaN,mean, inplace=True)\n",
    "df.info()\n"
   ]
  },
  {
   "cell_type": "code",
   "execution_count": 27,
   "metadata": {},
   "outputs": [
    {
     "name": "stdout",
     "output_type": "stream",
     "text": [
      "   Unnamed: 0 Manufacturer  Category     Screen  GPU  OS  CPU_core  \\\n",
      "0           0         Acer         4  IPS Panel    2   1         5   \n",
      "1           1         Dell         3    Full HD    1   1         3   \n",
      "2           2         Dell         3    Full HD    1   1         7   \n",
      "3           3         Dell         4  IPS Panel    2   1         5   \n",
      "4           4           HP         4    Full HD    2   1         7   \n",
      "\n",
      "   Screen_size_inch  CPU_frequency  RAM_GB  Storage_GB_SSD  Weight_kg  Price  \n",
      "0         14.000000            1.6       8             256       1.60    978  \n",
      "1         15.598425            2.0       4             256       2.20    634  \n",
      "2         15.598425            2.7       8             256       2.20    946  \n",
      "3         13.299213            1.6       8             128       1.22   1244  \n",
      "4         15.598425            1.8       8             256       1.91    837  \n"
     ]
    }
   ],
   "source": [
    "df['Screen_Size_cm'] = df['Screen_Size_cm']/2.54\n",
    "df.rename(columns={'Screen_Size_cm':'Screen_size_inch'}, inplace=True)\n",
    "print(df.head(5))\n"
   ]
  },
  {
   "cell_type": "code",
   "execution_count": 30,
   "metadata": {},
   "outputs": [
    {
     "name": "stdout",
     "output_type": "stream",
     "text": [
      "   Unnamed: 0 Manufacturer  Category     Screen  GPU  OS  CPU_core  \\\n",
      "0           0         Acer         4  IPS Panel    2   1         5   \n",
      "1           1         Dell         3    Full HD    1   1         3   \n",
      "2           2         Dell         3    Full HD    1   1         7   \n",
      "3           3         Dell         4  IPS Panel    2   1         5   \n",
      "4           4           HP         4    Full HD    2   1         7   \n",
      "\n",
      "   Screen_size_inch  CPU_frequency  RAM_GB  Storage_GB_SSD  Weight_kg  Price  \\\n",
      "0         14.000000            1.6       8             256       1.60    978   \n",
      "1         15.598425            2.0       4             256       2.20    634   \n",
      "2         15.598425            2.7       8             256       2.20    946   \n",
      "3         13.299213            1.6       8             128       1.22   1244   \n",
      "4         15.598425            1.8       8             256       1.91    837   \n",
      "\n",
      "  Price_binned  \n",
      "0          Low  \n",
      "1          Low  \n",
      "2          Low  \n",
      "3          Low  \n",
      "4          Low  \n"
     ]
    }
   ],
   "source": [
    "#lets create 3 bins - low, mid and high\n",
    "bins = np.linspace(df['Price'].min(),df['Price'].max(),4 )\n",
    "bin_names = [\"Low\", \"Medium\", \"High\"]\n",
    "df[\"Price_binned\"]= pd.cut(df[\"Price\"], bins, labels=bin_names, include_lowest=True)\n",
    "print(df.head(5))"
   ]
  },
  {
   "cell_type": "code",
   "execution_count": 34,
   "metadata": {},
   "outputs": [
    {
     "name": "stdout",
     "output_type": "stream",
     "text": [
      "['IPS Panel' 'Full HD']\n"
     ]
    },
    {
     "data": {
      "text/html": [
       "<div>\n",
       "<style scoped>\n",
       "    .dataframe tbody tr th:only-of-type {\n",
       "        vertical-align: middle;\n",
       "    }\n",
       "\n",
       "    .dataframe tbody tr th {\n",
       "        vertical-align: top;\n",
       "    }\n",
       "\n",
       "    .dataframe thead th {\n",
       "        text-align: right;\n",
       "    }\n",
       "</style>\n",
       "<table border=\"1\" class=\"dataframe\">\n",
       "  <thead>\n",
       "    <tr style=\"text-align: right;\">\n",
       "      <th></th>\n",
       "      <th>Unnamed: 0</th>\n",
       "      <th>Manufacturer</th>\n",
       "      <th>Category</th>\n",
       "      <th>GPU</th>\n",
       "      <th>OS</th>\n",
       "      <th>CPU_core</th>\n",
       "      <th>Screen_size_inch</th>\n",
       "      <th>CPU_frequency</th>\n",
       "      <th>RAM_GB</th>\n",
       "      <th>Storage_GB_SSD</th>\n",
       "      <th>Weight_kg</th>\n",
       "      <th>Price</th>\n",
       "      <th>Price_binned</th>\n",
       "      <th>Full HD</th>\n",
       "      <th>IPS Panel</th>\n",
       "    </tr>\n",
       "  </thead>\n",
       "  <tbody>\n",
       "    <tr>\n",
       "      <th>0</th>\n",
       "      <td>0</td>\n",
       "      <td>Acer</td>\n",
       "      <td>4</td>\n",
       "      <td>2</td>\n",
       "      <td>1</td>\n",
       "      <td>5</td>\n",
       "      <td>14.000000</td>\n",
       "      <td>1.6</td>\n",
       "      <td>8</td>\n",
       "      <td>256</td>\n",
       "      <td>1.60</td>\n",
       "      <td>978</td>\n",
       "      <td>Low</td>\n",
       "      <td>False</td>\n",
       "      <td>True</td>\n",
       "    </tr>\n",
       "    <tr>\n",
       "      <th>1</th>\n",
       "      <td>1</td>\n",
       "      <td>Dell</td>\n",
       "      <td>3</td>\n",
       "      <td>1</td>\n",
       "      <td>1</td>\n",
       "      <td>3</td>\n",
       "      <td>15.598425</td>\n",
       "      <td>2.0</td>\n",
       "      <td>4</td>\n",
       "      <td>256</td>\n",
       "      <td>2.20</td>\n",
       "      <td>634</td>\n",
       "      <td>Low</td>\n",
       "      <td>True</td>\n",
       "      <td>False</td>\n",
       "    </tr>\n",
       "    <tr>\n",
       "      <th>2</th>\n",
       "      <td>2</td>\n",
       "      <td>Dell</td>\n",
       "      <td>3</td>\n",
       "      <td>1</td>\n",
       "      <td>1</td>\n",
       "      <td>7</td>\n",
       "      <td>15.598425</td>\n",
       "      <td>2.7</td>\n",
       "      <td>8</td>\n",
       "      <td>256</td>\n",
       "      <td>2.20</td>\n",
       "      <td>946</td>\n",
       "      <td>Low</td>\n",
       "      <td>True</td>\n",
       "      <td>False</td>\n",
       "    </tr>\n",
       "    <tr>\n",
       "      <th>3</th>\n",
       "      <td>3</td>\n",
       "      <td>Dell</td>\n",
       "      <td>4</td>\n",
       "      <td>2</td>\n",
       "      <td>1</td>\n",
       "      <td>5</td>\n",
       "      <td>13.299213</td>\n",
       "      <td>1.6</td>\n",
       "      <td>8</td>\n",
       "      <td>128</td>\n",
       "      <td>1.22</td>\n",
       "      <td>1244</td>\n",
       "      <td>Low</td>\n",
       "      <td>False</td>\n",
       "      <td>True</td>\n",
       "    </tr>\n",
       "    <tr>\n",
       "      <th>4</th>\n",
       "      <td>4</td>\n",
       "      <td>HP</td>\n",
       "      <td>4</td>\n",
       "      <td>2</td>\n",
       "      <td>1</td>\n",
       "      <td>7</td>\n",
       "      <td>15.598425</td>\n",
       "      <td>1.8</td>\n",
       "      <td>8</td>\n",
       "      <td>256</td>\n",
       "      <td>1.91</td>\n",
       "      <td>837</td>\n",
       "      <td>Low</td>\n",
       "      <td>True</td>\n",
       "      <td>False</td>\n",
       "    </tr>\n",
       "  </tbody>\n",
       "</table>\n",
       "</div>"
      ],
      "text/plain": [
       "   Unnamed: 0 Manufacturer  Category  GPU  OS  CPU_core  Screen_size_inch  \\\n",
       "0           0         Acer         4    2   1         5         14.000000   \n",
       "1           1         Dell         3    1   1         3         15.598425   \n",
       "2           2         Dell         3    1   1         7         15.598425   \n",
       "3           3         Dell         4    2   1         5         13.299213   \n",
       "4           4           HP         4    2   1         7         15.598425   \n",
       "\n",
       "   CPU_frequency  RAM_GB  Storage_GB_SSD  Weight_kg  Price Price_binned  \\\n",
       "0            1.6       8             256       1.60    978          Low   \n",
       "1            2.0       4             256       2.20    634          Low   \n",
       "2            2.7       8             256       2.20    946          Low   \n",
       "3            1.6       8             128       1.22   1244          Low   \n",
       "4            1.8       8             256       1.91    837          Low   \n",
       "\n",
       "   Full HD  IPS Panel  \n",
       "0    False       True  \n",
       "1     True      False  \n",
       "2     True      False  \n",
       "3    False       True  \n",
       "4     True      False  "
      ]
     },
     "execution_count": 34,
     "metadata": {},
     "output_type": "execute_result"
    }
   ],
   "source": [
    "print(df['Screen'].unique())\n",
    "#so as we see there are only two types for screens, either they are an IPS Panel or they arent\n",
    "dummy = pd.get_dummies(df[\"Screen\"])\n",
    "df = pd.concat([df, dummy], axis = 1)\n",
    "df.drop('Screen', axis=1, inplace=True)\n",
    "df.head(5)"
   ]
  },
  {
   "cell_type": "code",
   "execution_count": 36,
   "metadata": {},
   "outputs": [
    {
     "name": "stdout",
     "output_type": "stream",
     "text": [
      "   Unnamed: 0 Manufacturer  Category  GPU  OS  Screen_size_inch  \\\n",
      "0           0         Acer         4    2   1         14.000000   \n",
      "1           1         Dell         3    1   1         15.598425   \n",
      "2           2         Dell         3    1   1         15.598425   \n",
      "3           3         Dell         4    2   1         13.299213   \n",
      "4           4           HP         4    2   1         15.598425   \n",
      "\n",
      "   CPU_frequency  RAM_GB  Storage_GB_SSD  Weight_kg  Price Price_binned  \\\n",
      "0            1.6       8             256       1.60    978          Low   \n",
      "1            2.0       4             256       2.20    634          Low   \n",
      "2            2.7       8             256       2.20    946          Low   \n",
      "3            1.6       8             128       1.22   1244          Low   \n",
      "4            1.8       8             256       1.91    837          Low   \n",
      "\n",
      "   Full HD  IPS Panel  \n",
      "0    False       True  \n",
      "1     True      False  \n",
      "2     True      False  \n",
      "3    False       True  \n",
      "4     True      False  \n"
     ]
    }
   ],
   "source": [
    "df.drop( \"CPU_core\", axis='columns',inplace=True)\n",
    "print(df.head(5))"
   ]
  },
  {
   "cell_type": "code",
   "execution_count": null,
   "metadata": {},
   "outputs": [],
   "source": []
  }
 ],
 "metadata": {
  "kernelspec": {
   "display_name": "Python 3",
   "language": "python",
   "name": "python3"
  },
  "language_info": {
   "codemirror_mode": {
    "name": "ipython",
    "version": 3
   },
   "file_extension": ".py",
   "mimetype": "text/x-python",
   "name": "python",
   "nbconvert_exporter": "python",
   "pygments_lexer": "ipython3",
   "version": "3.11.9"
  }
 },
 "nbformat": 4,
 "nbformat_minor": 2
}
