{
 "cells": [
  {
   "cell_type": "markdown",
   "metadata": {},
   "source": [
    "# EDA"
   ]
  },
  {
   "cell_type": "markdown",
   "metadata": {},
   "source": [
    "## Descriptive Statistics"
   ]
  },
  {
   "cell_type": "markdown",
   "metadata": {},
   "source": [
    "* we do desc stats before starting to build a model\n",
    "* we can use the describe() functions in pandas\n",
    "* NaN values are skipped in the describe() functions\n",
    "* we can summarize categorical variables by using the value_counts and include = 'all' commands\n",
    "* to visualize numeric data we mostly use box plots\n",
    "* for 2 continuous variables use a scatter plot\n"
   ]
  },
  {
   "cell_type": "markdown",
   "metadata": {},
   "source": [
    "## GroupBy"
   ]
  },
  {
   "cell_type": "markdown",
   "metadata": {},
   "source": [
    "* to find what kind of relation exists between multiple variables (categorical) \n",
    "* say we want to find the price range ( mean price ) of different combinations of roof-type and drive-wheels cars. example hardtop rwd, hardtop fwd, convertible rwd,etc..so for that we would do <br>\n",
    "df.groupby(['RoofType', 'WheelDrive']).mean()\n",
    "* to make the info more legible, we can use pivot tables\n",
    "* df_pivot = df.pivot(df.groupby(['RoofType', 'WheelDrive']).mean(), index = 'RoofType', columns='WheelDrive')\n",
    "* and lastly, to visualize the data, we use heatmaps"
   ]
  },
  {
   "cell_type": "markdown",
   "metadata": {},
   "source": [
    "## Correlation"
   ]
  },
  {
   "cell_type": "markdown",
   "metadata": {},
   "source": [
    "* measure to see how much two variables are interdependent\n",
    "* correlation doesn't imply causation\n",
    "* which basically means that rains and umbrellas are correlated. but we cannot tell via statistics whether more number of umbrella users caused rain or if more rain caused a higher number of umbrella users\n",
    "* the sns.regplot(x,y) gives a linear regression line and a scatter plot\n",
    "* the slope of the line can be positive or negative and hence they are said to have positive or negative correlation respectively\n",
    "* correlations can be weak or strong as predicted by the plot\n",
    "\n",
    "\n",
    "### Pearson correlation method\n",
    "1. it gives us the pearson coefficient and p value\n",
    "2. value of person coeffcient :-<br>\n",
    "closer to +1 => strong positive correlation<br>\n",
    "closer to -1 => strong negative correlation<br>\n",
    "closer to 0 => weak/no correlation\n",
    "3. value of p-value :-<br>\n",
    "p-value<0.001 => strong certainty<br>\n",
    "p-value<0.05 => moderate certainty<br>\n",
    "p-value<=0.1 => weak certainty\n",
    "p-value>0.1 => NO certainty\n",
    "4. **scipy.stats** method pearson_coeff, p_value = stats.pearsonr(x,y) give us the required value for comparison\n",
    "\n",
    "\n",
    "### Chi-Square method\n",
    "1. used to find correlation between categorical variables\n",
    "2.  It evaluates whether the frequencies of observed outcomes significantly deviate from expected frequencies\n",
    "3. we use chi-square formulae to compute the chi-square value and the degree of freedom (df). Then we use the chi-square table to compare our chi-sqaure value to the critical value at that df and some pre-defined significance level. \n",
    "4. if **chi-square < critical value** => weak correlation or 'chance-occurence' <br>\n",
    "   if **chi-square > critical value** => strong correlation "
   ]
  },
  {
   "cell_type": "markdown",
   "metadata": {},
   "source": []
  }
 ],
 "metadata": {
  "language_info": {
   "name": "python"
  }
 },
 "nbformat": 4,
 "nbformat_minor": 2
}
