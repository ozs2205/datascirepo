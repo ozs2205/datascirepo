{
 "cells": [
  {
   "cell_type": "markdown",
   "metadata": {},
   "source": [
    "# SQL"
   ]
  },
  {
   "cell_type": "markdown",
   "metadata": {},
   "source": [
    "### Selecting\n",
    "\n",
    "syntax :-\n",
    "**SELECT** column1,column2,... **from** NameOfTable **WHERE** conditions ;"
   ]
  },
  {
   "cell_type": "markdown",
   "metadata": {},
   "source": [
    "### Count\n",
    "\n",
    "* returns the number of rows that match the query criteria\n",
    "* syntax :- <br>\n",
    "SELECT COUNT(*) from NameOfTable;   returns total no of rows<br>\n",
    "SELECT COUNT(NameOfColumn) from NameOfTable WHERE NameOfColumn=condition;   returns number of rows where the condition is satisfied\n",
    "\n",
    "\n",
    "### Distinct \n",
    "* this is similar to the .unique() method in pandas where it returns the number of unique entries in a given column\n",
    "* syntax :- <br>\n",
    "SELECT DISTINCT NameOfColumn from NameOfTable; returns no of unique entries in the column<br>\n",
    "SELECT DISTINCT NameOfColumn from NameOfTable WHERE NameOfColumn= condition: returns unique entries that satisfy condition\n",
    "\n",
    "\n",
    "### Limit\n",
    "* this is similar to the .head() function in python\n",
    "* syntax :- <br>\n",
    "SELECT * from NameOfTable LIMIT 10;  returns just top 10 rows<br>\n",
    "* OFFSET 10 means start from the 11th index\n",
    "\n"
   ]
  },
  {
   "cell_type": "markdown",
   "metadata": {},
   "source": [
    "### Insert\n",
    "* used to populate an existing TABLE <br>\n",
    "* syntax :- <br>\n",
    "**INSERT INTO** NameOfTable <br> (Column1,Column2,...) **VALUES** <br>('Value1', 'Value2',...)<br>\n",
    "* we can also populate multiple rows at once as displayed here in the example :- <br>\n",
    "\n",
    "**INSERT INTO** NameOfTable <br>(Column1,Column2,...)<br> **VALUES**<br> ('Value1', 'Value2',...)<br> ('Value11', 'Value22',...)"
   ]
  },
  {
   "cell_type": "markdown",
   "metadata": {},
   "source": [
    "### Update\n",
    "* after populating a table, we can alter its data using the UPDATE command\n",
    "* syntax :-<br>\n",
    "**UPDATE** NameOfTable **SET** Column1='Value1' Column2='Value2' **WHERE** Column3 = Condition<br>\n",
    "\n",
    "\n",
    "### Delete\n",
    "* to delete rows using some conditions\n",
    "* syntax :-<br>\n",
    "**DELETE** from NameOfTable **WHERE** Column1=Condition<br>"
   ]
  },
  {
   "cell_type": "markdown",
   "metadata": {},
   "source": [
    "### DDL vs DML\n",
    "\n",
    "* Data Definition Lang vs Data Manipulation Lang\n",
    "* DDL :-\n",
    "1. CREATE (creating tables and defining columns)\n",
    "2. ALTER (adding and modifying columns)\n",
    "3. TRUNCATE (deleting data in the table but not the table itself)\n",
    "4. DROP (deleting tables)<br>\n",
    "\n",
    "* DML:- \n",
    "1. INSERT (Inserting a row(s) into an existing table)\n",
    "2. SELECT (reads rows from a table)\n",
    "3. UPDATE (edits rows in a table)\n",
    "4. DELETE (deletes rows from a table)"
   ]
  },
  {
   "cell_type": "markdown",
   "metadata": {},
   "source": [
    "### Create\n",
    "* syntax:- <br>\n",
    "CREATE TABLE NameOfTable<br>\n",
    "    (<br>\n",
    "        NameOfColumn1 dataType optionalParameter,<br>\n",
    "        NameOfColumn2 dataType optionalParameter,<br>\n",
    "        NameOfColumn3 dataType optionalParameter,<br>\n",
    "        NameOfColumn4 dataType optionalParameter,<br>\n",
    "        .<br>\n",
    "        .<br>\n",
    "      <br>  \n",
    "    )\n",
    "* char(n) is a character string of fixed length n\n",
    "* varchar(n) is a character string of variable length upto n characters\n",
    "* we assign some column the optional parameter of **PRIMARY KEY**. this implies that no duplicate entries in that particular column can exist and it uniquely identifies its rows\n",
    "* **NOT NULL** is an optional parameter that specifies that this column in a row of info cant be NaN"
   ]
  },
  {
   "cell_type": "markdown",
   "metadata": {},
   "source": [
    "### Alter\n",
    "* Used to modify existing columns \n",
    "* or add or remove columns from the table\n",
    "* syntax :- <br>\n",
    "ALTER TABLE NameOfTable<br>\n",
    "    ADD COLUMN NameOfNewColumn1 dataType<br>\n",
    "    ADD COLUMN NameOfNewColumn2 dataType<br>\n",
    "    ADD COLUMN NameOfNewColumn3 dataType<br>\n",
    "    MODIFY NameOfColumn newDataType<br>\n",
    "    DROP COLUMN NameOfColumn;\n",
    "\n",
    "### Drop\n",
    "* DROP TABLE NameOfTable;\n",
    "\n",
    "### Truncate \n",
    "* deletes all the rows in the table\n",
    "* TRUNCATE TABLE NameOfTable <br> IMMEDIATE;\n",
    "\n",
    "\n"
   ]
  },
  {
   "cell_type": "markdown",
   "metadata": {},
   "source": [
    "### String Pattern\n",
    "* when the \"condition\" in the WHERE Statement isnt clearly defined we use \"**like**\"\n",
    "* example :- <br>\n",
    "SELECT FirstName from Author<br>\n",
    "WHERE FirstName **like** 'R%'<br> *this returns those rows in which the FirstName starts with an R*\n",
    "\n",
    "* for range we can use the \"**between--and--**\" function\n",
    "* similarly we can use \"**in--list**\" function"
   ]
  },
  {
   "cell_type": "markdown",
   "metadata": {},
   "source": [
    "### Sorting Result Sets\n",
    "* we use the **ORDER BY** function for this\n",
    "* for example :- <br>\n",
    "SELECT * from Book<br>\n",
    "ORDER BY Title<br> *this is will display all the books sorted alphabetically by their Title in ascending order*\n",
    "* for example :- <br>\n",
    "SELECT * from Book<br>\n",
    "ORDER BY Title DESC<br> *this is will display all the books sorted alphabetically by their Title in descending order*"
   ]
  },
  {
   "cell_type": "markdown",
   "metadata": {},
   "source": [
    "### Grouping Result Sets\n",
    "* we use the \"**GROUP BY**\" clause for this\n",
    "* example :- <br>\n",
    "SELECT Country,COUNT(Country) from Author<br>\n",
    "GROUP BY Country<br> *this will display the count of each country against its name*\n",
    "* we use the **HAVING** clause with the GROUP BY clause to filter the results"
   ]
  },
  {
   "cell_type": "markdown",
   "metadata": {},
   "source": [
    "### Built-in Functions\n",
    "* Aggregate Functions : SUM(), MIN(), MAX(), AVG(),etc<br>\n",
    "example = SELECT SUM(NameOfColumn) as NameOfNewColumn from NameOfTable;\n",
    "* Scalar/String Functions : ROUND(), LENGTH(), UCASE, LCASE\n",
    "* Date & Time Functions : \n",
    "1. SQL has DATE,TIME and TIMESTAMP datatypes\n",
    "2. the functions include YEAR(), MONTH(), DAY(), DAYOFMONTH(), DAYOFWEEK(), DAYOFYEAR(), WEEK(), HOUR(), MINUTE(), SECOND()\n",
    "3. syntax :- <br> SELECT YEAR(NameOfDateColumn) from NameOfTable WHERE Condition;\n",
    "4. there are special functions for Date & Time arithmetic and have special registers for that\n",
    "5. these special functions are DATE_ADD, DATE_SUB, DATEDIFF"
   ]
  },
  {
   "cell_type": "markdown",
   "metadata": {},
   "source": [
    "### Nested-Selects and Sub-Queries\n",
    "* example of a sub-query is <br>\n",
    "SELECT Column1 from NameOfTable<br>\n",
    "WHERE Column2 = (SELECT MAX(Column2) from NameOfTable)\n"
   ]
  },
  {
   "cell_type": "markdown",
   "metadata": {},
   "source": []
  }
 ],
 "metadata": {
  "language_info": {
   "name": "python"
  }
 },
 "nbformat": 4,
 "nbformat_minor": 2
}
